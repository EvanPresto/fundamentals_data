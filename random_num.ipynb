{
 "cells": [
  {
   "cell_type": "markdown",
   "metadata": {},
   "source": [
    "## Topic 4 - Random Numbers "
   ]
  },
  {
   "cell_type": "code",
   "execution_count": 4,
   "metadata": {},
   "outputs": [],
   "source": [
    "import random "
   ]
  },
  {
   "cell_type": "code",
   "execution_count": 5,
   "metadata": {},
   "outputs": [
    {
     "data": {
      "text/plain": [
       "<bound method Random.randint of <random.Random object at 0x7f99aa83a820>>"
      ]
     },
     "execution_count": 5,
     "metadata": {},
     "output_type": "execute_result"
    }
   ],
   "source": [
    "random.randint "
   ]
  },
  {
   "cell_type": "code",
   "execution_count": 6,
   "metadata": {},
   "outputs": [
    {
     "data": {
      "text/plain": [
       "16"
      ]
     },
     "execution_count": 6,
     "metadata": {},
     "output_type": "execute_result"
    }
   ],
   "source": [
    "# based on the above we can generate a random integer inclusuve of 10 and 20 \n",
    "random.randint(10,20)"
   ]
  },
  {
   "cell_type": "code",
   "execution_count": 7,
   "metadata": {},
   "outputs": [
    {
     "name": "stdout",
     "output_type": "stream",
     "text": [
      "[8, 8, 7, 1, 9, 3, 3, 2, 6, 5]\n"
     ]
    }
   ],
   "source": [
    "L = [random.randint(1,10) for i in range(100)]\n",
    "print(L[:10])"
   ]
  },
  {
   "cell_type": "code",
   "execution_count": 1,
   "metadata": {},
   "outputs": [],
   "source": [
    "import numpy as np "
   ]
  },
  {
   "cell_type": "code",
   "execution_count": 8,
   "metadata": {},
   "outputs": [
    {
     "name": "stdout",
     "output_type": "stream",
     "text": [
      "[8, 8, 7, 1, 9, 3, 3, 2, 6, 5]\n"
     ]
    }
   ],
   "source": [
    "print(L[:10])"
   ]
  },
  {
   "cell_type": "code",
   "execution_count": 9,
   "metadata": {},
   "outputs": [],
   "source": [
    "#List of car makes \n",
    "makes = ['Toyota','Skoda','Ford','BMW']"
   ]
  },
  {
   "cell_type": "code",
   "execution_count": 10,
   "metadata": {},
   "outputs": [
    {
     "data": {
      "text/plain": [
       "'Skoda'"
      ]
     },
     "execution_count": 10,
     "metadata": {},
     "output_type": "execute_result"
    }
   ],
   "source": [
    "#select one at random\n",
    "random.choice(makes)"
   ]
  },
  {
   "cell_type": "code",
   "execution_count": 11,
   "metadata": {},
   "outputs": [
    {
     "data": {
      "text/plain": [
       "['Skoda',\n",
       " 'Toyota',\n",
       " 'BMW',\n",
       " 'Ford',\n",
       " 'Toyota',\n",
       " 'BMW',\n",
       " 'Skoda',\n",
       " 'Ford',\n",
       " 'Skoda',\n",
       " 'BMW']"
      ]
     },
     "execution_count": 11,
     "metadata": {},
     "output_type": "execute_result"
    }
   ],
   "source": [
    "#Select ten random choices\n",
    "random.choices(makes,k=10)"
   ]
  },
  {
   "cell_type": "code",
   "execution_count": 12,
   "metadata": {},
   "outputs": [],
   "source": [
    "random.shuffle(makes)"
   ]
  },
  {
   "cell_type": "code",
   "execution_count": 13,
   "metadata": {},
   "outputs": [
    {
     "name": "stdout",
     "output_type": "stream",
     "text": [
      "['Ford', 'Toyota', 'BMW', 'Skoda']\n"
     ]
    }
   ],
   "source": [
    "print(makes)"
   ]
  },
  {
   "cell_type": "code",
   "execution_count": 14,
   "metadata": {},
   "outputs": [
    {
     "data": {
      "text/plain": [
       "['BMW', 'Skoda']"
      ]
     },
     "execution_count": 14,
     "metadata": {},
     "output_type": "execute_result"
    }
   ],
   "source": [
    "random.sample(makes,k=2)"
   ]
  },
  {
   "cell_type": "code",
   "execution_count": 15,
   "metadata": {},
   "outputs": [
    {
     "data": {
      "text/plain": [
       "0.5353439896388688"
      ]
     },
     "execution_count": 15,
     "metadata": {},
     "output_type": "execute_result"
    }
   ],
   "source": [
    "random.random()"
   ]
  },
  {
   "cell_type": "code",
   "execution_count": 16,
   "metadata": {},
   "outputs": [
    {
     "data": {
      "text/plain": [
       "96.545711070657"
      ]
     },
     "execution_count": 16,
     "metadata": {},
     "output_type": "execute_result"
    }
   ],
   "source": [
    "random.uniform(0.0,100.0)"
   ]
  },
  {
   "cell_type": "markdown",
   "metadata": {},
   "source": [
    "## Import Numpy ( done above) "
   ]
  },
  {
   "cell_type": "code",
   "execution_count": 36,
   "metadata": {},
   "outputs": [],
   "source": [
    "#import numpy as np and matplotlib as plt \n",
    "# https://numpy.org/doc/stable/reference/random/generated/numpy.random.rand.html\n",
    "import matplotlib.pyplot as plt "
   ]
  },
  {
   "cell_type": "code",
   "execution_count": 24,
   "metadata": {},
   "outputs": [
    {
     "data": {
      "text/plain": [
       "array([0.36725699, 0.35871874, 0.34219038, 0.49482801, 0.36772753,\n",
       "       0.48082269, 0.50796408, 0.7138254 , 0.04893318, 0.66197467])"
      ]
     },
     "execution_count": 24,
     "metadata": {},
     "output_type": "execute_result"
    }
   ],
   "source": [
    "# Construct a new Generator with the default BitGenerator (PCG64)\n",
    "rng = np.random.default_rng()\n",
    "# Return random floats in the half-open interval [0.0, 1.0).\n",
    "rng.random(10)"
   ]
  },
  {
   "cell_type": "code",
   "execution_count": 26,
   "metadata": {},
   "outputs": [
    {
     "data": {
      "text/plain": [
       "array([-0.83123217, -1.684029  , -0.54184951,  2.14510006,  0.79500605,\n",
       "       -1.20150789, -0.74196678,  0.45395035,  0.11709543, -0.97429836])"
      ]
     },
     "execution_count": 26,
     "metadata": {},
     "output_type": "execute_result"
    }
   ],
   "source": [
    "# Generate numbers from a standard Normal distribution (mean=0, stdev=1).\n",
    "rng.standard_normal(10) "
   ]
  },
  {
   "cell_type": "code",
   "execution_count": 55,
   "metadata": {},
   "outputs": [],
   "source": [
    "low = 1\n",
    "\n",
    "high = 1000\n",
    "\n",
    "size = 100000"
   ]
  },
  {
   "cell_type": "code",
   "execution_count": 56,
   "metadata": {},
   "outputs": [],
   "source": [
    "# Return random integers from low (inclusive) to high (exclusive), or if endpoint=True, low (inclusive) to high (inclusive).\n",
    "rand_ints = rng.integers(low=low, high=high + 1, size=size)"
   ]
  },
  {
   "cell_type": "markdown",
   "metadata": {},
   "source": [
    "## END"
   ]
  },
  {
   "cell_type": "markdown",
   "metadata": {},
   "source": [
    "## Plotting Distributions"
   ]
  },
  {
   "cell_type": "code",
   "execution_count": 50,
   "metadata": {},
   "outputs": [
    {
     "data": {
      "text/plain": [
       "array([4, 3, 7, ..., 1, 9, 3])"
      ]
     },
     "execution_count": 50,
     "metadata": {},
     "output_type": "execute_result"
    }
   ],
   "source": [
    "rand_ints"
   ]
  },
  {
   "cell_type": "code",
   "execution_count": 58,
   "metadata": {},
   "outputs": [
    {
     "data": {
      "text/plain": [
       "(array([   1,    2,    3,    4,    5,    6,    7,    8,    9,   10,   11,\n",
       "          12,   13,   14,   15,   16,   17,   18,   19,   20,   21,   22,\n",
       "          23,   24,   25,   26,   27,   28,   29,   30,   31,   32,   33,\n",
       "          34,   35,   36,   37,   38,   39,   40,   41,   42,   43,   44,\n",
       "          45,   46,   47,   48,   49,   50,   51,   52,   53,   54,   55,\n",
       "          56,   57,   58,   59,   60,   61,   62,   63,   64,   65,   66,\n",
       "          67,   68,   69,   70,   71,   72,   73,   74,   75,   76,   77,\n",
       "          78,   79,   80,   81,   82,   83,   84,   85,   86,   87,   88,\n",
       "          89,   90,   91,   92,   93,   94,   95,   96,   97,   98,   99,\n",
       "         100,  101,  102,  103,  104,  105,  106,  107,  108,  109,  110,\n",
       "         111,  112,  113,  114,  115,  116,  117,  118,  119,  120,  121,\n",
       "         122,  123,  124,  125,  126,  127,  128,  129,  130,  131,  132,\n",
       "         133,  134,  135,  136,  137,  138,  139,  140,  141,  142,  143,\n",
       "         144,  145,  146,  147,  148,  149,  150,  151,  152,  153,  154,\n",
       "         155,  156,  157,  158,  159,  160,  161,  162,  163,  164,  165,\n",
       "         166,  167,  168,  169,  170,  171,  172,  173,  174,  175,  176,\n",
       "         177,  178,  179,  180,  181,  182,  183,  184,  185,  186,  187,\n",
       "         188,  189,  190,  191,  192,  193,  194,  195,  196,  197,  198,\n",
       "         199,  200,  201,  202,  203,  204,  205,  206,  207,  208,  209,\n",
       "         210,  211,  212,  213,  214,  215,  216,  217,  218,  219,  220,\n",
       "         221,  222,  223,  224,  225,  226,  227,  228,  229,  230,  231,\n",
       "         232,  233,  234,  235,  236,  237,  238,  239,  240,  241,  242,\n",
       "         243,  244,  245,  246,  247,  248,  249,  250,  251,  252,  253,\n",
       "         254,  255,  256,  257,  258,  259,  260,  261,  262,  263,  264,\n",
       "         265,  266,  267,  268,  269,  270,  271,  272,  273,  274,  275,\n",
       "         276,  277,  278,  279,  280,  281,  282,  283,  284,  285,  286,\n",
       "         287,  288,  289,  290,  291,  292,  293,  294,  295,  296,  297,\n",
       "         298,  299,  300,  301,  302,  303,  304,  305,  306,  307,  308,\n",
       "         309,  310,  311,  312,  313,  314,  315,  316,  317,  318,  319,\n",
       "         320,  321,  322,  323,  324,  325,  326,  327,  328,  329,  330,\n",
       "         331,  332,  333,  334,  335,  336,  337,  338,  339,  340,  341,\n",
       "         342,  343,  344,  345,  346,  347,  348,  349,  350,  351,  352,\n",
       "         353,  354,  355,  356,  357,  358,  359,  360,  361,  362,  363,\n",
       "         364,  365,  366,  367,  368,  369,  370,  371,  372,  373,  374,\n",
       "         375,  376,  377,  378,  379,  380,  381,  382,  383,  384,  385,\n",
       "         386,  387,  388,  389,  390,  391,  392,  393,  394,  395,  396,\n",
       "         397,  398,  399,  400,  401,  402,  403,  404,  405,  406,  407,\n",
       "         408,  409,  410,  411,  412,  413,  414,  415,  416,  417,  418,\n",
       "         419,  420,  421,  422,  423,  424,  425,  426,  427,  428,  429,\n",
       "         430,  431,  432,  433,  434,  435,  436,  437,  438,  439,  440,\n",
       "         441,  442,  443,  444,  445,  446,  447,  448,  449,  450,  451,\n",
       "         452,  453,  454,  455,  456,  457,  458,  459,  460,  461,  462,\n",
       "         463,  464,  465,  466,  467,  468,  469,  470,  471,  472,  473,\n",
       "         474,  475,  476,  477,  478,  479,  480,  481,  482,  483,  484,\n",
       "         485,  486,  487,  488,  489,  490,  491,  492,  493,  494,  495,\n",
       "         496,  497,  498,  499,  500,  501,  502,  503,  504,  505,  506,\n",
       "         507,  508,  509,  510,  511,  512,  513,  514,  515,  516,  517,\n",
       "         518,  519,  520,  521,  522,  523,  524,  525,  526,  527,  528,\n",
       "         529,  530,  531,  532,  533,  534,  535,  536,  537,  538,  539,\n",
       "         540,  541,  542,  543,  544,  545,  546,  547,  548,  549,  550,\n",
       "         551,  552,  553,  554,  555,  556,  557,  558,  559,  560,  561,\n",
       "         562,  563,  564,  565,  566,  567,  568,  569,  570,  571,  572,\n",
       "         573,  574,  575,  576,  577,  578,  579,  580,  581,  582,  583,\n",
       "         584,  585,  586,  587,  588,  589,  590,  591,  592,  593,  594,\n",
       "         595,  596,  597,  598,  599,  600,  601,  602,  603,  604,  605,\n",
       "         606,  607,  608,  609,  610,  611,  612,  613,  614,  615,  616,\n",
       "         617,  618,  619,  620,  621,  622,  623,  624,  625,  626,  627,\n",
       "         628,  629,  630,  631,  632,  633,  634,  635,  636,  637,  638,\n",
       "         639,  640,  641,  642,  643,  644,  645,  646,  647,  648,  649,\n",
       "         650,  651,  652,  653,  654,  655,  656,  657,  658,  659,  660,\n",
       "         661,  662,  663,  664,  665,  666,  667,  668,  669,  670,  671,\n",
       "         672,  673,  674,  675,  676,  677,  678,  679,  680,  681,  682,\n",
       "         683,  684,  685,  686,  687,  688,  689,  690,  691,  692,  693,\n",
       "         694,  695,  696,  697,  698,  699,  700,  701,  702,  703,  704,\n",
       "         705,  706,  707,  708,  709,  710,  711,  712,  713,  714,  715,\n",
       "         716,  717,  718,  719,  720,  721,  722,  723,  724,  725,  726,\n",
       "         727,  728,  729,  730,  731,  732,  733,  734,  735,  736,  737,\n",
       "         738,  739,  740,  741,  742,  743,  744,  745,  746,  747,  748,\n",
       "         749,  750,  751,  752,  753,  754,  755,  756,  757,  758,  759,\n",
       "         760,  761,  762,  763,  764,  765,  766,  767,  768,  769,  770,\n",
       "         771,  772,  773,  774,  775,  776,  777,  778,  779,  780,  781,\n",
       "         782,  783,  784,  785,  786,  787,  788,  789,  790,  791,  792,\n",
       "         793,  794,  795,  796,  797,  798,  799,  800,  801,  802,  803,\n",
       "         804,  805,  806,  807,  808,  809,  810,  811,  812,  813,  814,\n",
       "         815,  816,  817,  818,  819,  820,  821,  822,  823,  824,  825,\n",
       "         826,  827,  828,  829,  830,  831,  832,  833,  834,  835,  836,\n",
       "         837,  838,  839,  840,  841,  842,  843,  844,  845,  846,  847,\n",
       "         848,  849,  850,  851,  852,  853,  854,  855,  856,  857,  858,\n",
       "         859,  860,  861,  862,  863,  864,  865,  866,  867,  868,  869,\n",
       "         870,  871,  872,  873,  874,  875,  876,  877,  878,  879,  880,\n",
       "         881,  882,  883,  884,  885,  886,  887,  888,  889,  890,  891,\n",
       "         892,  893,  894,  895,  896,  897,  898,  899,  900,  901,  902,\n",
       "         903,  904,  905,  906,  907,  908,  909,  910,  911,  912,  913,\n",
       "         914,  915,  916,  917,  918,  919,  920,  921,  922,  923,  924,\n",
       "         925,  926,  927,  928,  929,  930,  931,  932,  933,  934,  935,\n",
       "         936,  937,  938,  939,  940,  941,  942,  943,  944,  945,  946,\n",
       "         947,  948,  949,  950,  951,  952,  953,  954,  955,  956,  957,\n",
       "         958,  959,  960,  961,  962,  963,  964,  965,  966,  967,  968,\n",
       "         969,  970,  971,  972,  973,  974,  975,  976,  977,  978,  979,\n",
       "         980,  981,  982,  983,  984,  985,  986,  987,  988,  989,  990,\n",
       "         991,  992,  993,  994,  995,  996,  997,  998,  999, 1000]),\n",
       " array([107,  97,  81, 103,  80, 115,  85,  95,  89, 109, 104, 100, 105,\n",
       "         92, 107,  99, 113,  98,  87, 108,  94, 104, 116,  99,  87,  92,\n",
       "         87,  95, 118, 109,  99,  92, 101,  95, 117,  93, 106,  85,  89,\n",
       "         92,  94,  99,  84, 102, 113, 109,  98,  86,  87, 104,  87, 114,\n",
       "        104,  89,  98, 120, 110, 105,  97, 103, 118, 121,  99,  93,  93,\n",
       "         90, 108, 105, 102,  88,  93,  99, 107, 114, 100,  95, 105,  99,\n",
       "        119,  98, 117,  96,  93, 101, 102, 103,  89,  90,  84,  96,  86,\n",
       "         92,  89, 110, 111, 100, 115,  89,  86,  92,  94, 107, 107,  96,\n",
       "        109, 105,  93, 105, 109, 108, 117, 118,  88, 102, 101, 102, 106,\n",
       "         90, 100, 107, 103,  81, 106,  99,  91, 101,  97, 104,  95,  93,\n",
       "        108,  98,  86, 103,  96,  91,  87,  97,  83,  95, 118,  86,  87,\n",
       "         93,  89,  99, 104,  88,  89, 101, 109, 113, 100, 101,  87,  99,\n",
       "        101, 100, 108, 109,  92, 111,  99,  84,  80,  89,  94,  98, 101,\n",
       "         94,  94, 101, 110, 108, 119, 111,  93, 107, 100, 107, 108, 103,\n",
       "         95,  86,  91,  95, 100, 100,  89,  94, 105,  97, 106, 100,  87,\n",
       "        110,  86, 110, 106,  98,  88, 116,  93, 117, 104,  88,  98,  96,\n",
       "        102, 119,  94, 124,  92,  91,  95,  88,  96,  93,  90, 111,  81,\n",
       "         93, 102,  84,  97,  94,  95, 106,  90, 115, 117,  97, 117,  98,\n",
       "         94, 113, 116,  90,  94, 103, 119, 103,  98,  95, 122, 104,  92,\n",
       "         92, 114, 117, 107,  80, 119, 102, 109,  76, 106, 105,  98,  88,\n",
       "         84,  98,  95,  88,  89, 116, 103,  88, 107, 107,  94,  87, 100,\n",
       "         98,  80, 110, 114, 103,  91,  84, 106, 107, 113, 107,  94, 106,\n",
       "         89, 100, 109,  82, 100, 100,  94, 101, 101,  94, 114, 105, 102,\n",
       "        108,  89,  91, 101, 121,  99, 107,  90, 108,  93,  83, 105,  84,\n",
       "        113,  87, 100, 103, 106, 107, 107, 103, 102, 110,  89, 120,  86,\n",
       "        111, 102, 112,  96,  88,  97, 103,  88, 111,  84, 111,  96, 100,\n",
       "        107, 109, 105, 120,  93,  94, 118,  99,  90, 119,  97,  93, 118,\n",
       "        113, 118,  95,  99,  87, 109,  86,  97, 112, 103,  93,  85,  94,\n",
       "         97,  98,  84,  84,  98, 114,  87, 117,  97,  91, 104, 109, 108,\n",
       "        108,  91, 102, 108, 102, 102, 101,  84, 107, 106, 106,  95,  77,\n",
       "         98,  99,  89, 108, 100,  91,  95, 104, 106, 106,  86,  95,  82,\n",
       "        105,  94, 104,  98, 100,  99,  96, 108,  84, 113,  98, 124, 108,\n",
       "        107, 120, 112,  96,  89,  92, 110,  99, 105, 117,  93,  99,  98,\n",
       "         88,  94,  96,  99, 101, 120,  80, 119,  91,  94,  96, 103, 100,\n",
       "         96,  90, 102, 103, 104,  79, 114,  96, 104,  93,  86, 106,  94,\n",
       "        105, 121, 104,  91,  94, 111, 108, 109, 111, 106, 109, 100, 104,\n",
       "         85, 117,  91, 106,  83, 109, 101, 105,  88,  96,  97, 106, 110,\n",
       "        100,  99,  97,  99,  96,  92,  94,  96, 107, 103,  88,  96,  90,\n",
       "        115, 106,  87, 113,  97, 103,  89,  99,  92, 107, 115,  88,  99,\n",
       "        101, 109,  82,  86,  94,  97,  90,  91, 106, 117,  96,  92, 103,\n",
       "         94, 126, 121,  92,  76,  82, 116,  95,  99,  96, 111, 111,  89,\n",
       "        101,  86, 105,  91,  96,  95,  98,  89,  93,  99,  78, 120, 105,\n",
       "        109, 109,  98,  97, 107, 108,  90, 108, 106, 119,  90, 107,  92,\n",
       "         93, 106,  99,  96, 107,  90, 113,  95,  98,  99, 133,  93,  84,\n",
       "         96, 114, 104, 110, 111,  92, 101,  92, 106,  80, 103, 108,  93,\n",
       "         91,  96,  95, 100, 107, 112, 103, 103, 100, 112,  89,  79,  93,\n",
       "        104,  90, 101,  87, 108, 101,  87,  98, 102,  91, 121, 109,  90,\n",
       "        118, 108, 103,  97,  89,  86,  84,  97,  99,  97, 103, 129,  95,\n",
       "        116, 101, 117, 105, 107, 108,  97, 103, 114,  95,  98, 111,  83,\n",
       "        103, 123, 111, 110, 102,  95,  77,  88, 108, 102, 106, 108,  92,\n",
       "         95,  92, 110,  93, 127, 117,  93, 102,  88, 104,  88,  98, 120,\n",
       "         96,  85,  98, 109,  97,  96, 111, 103, 106,  96,  88, 111,  98,\n",
       "        102, 101,  97,  97, 107,  87, 123,  86, 111,  83,  97, 113,  95,\n",
       "         95,  94, 104,  97, 102,  93,  96,  83, 107,  97, 112,  78, 107,\n",
       "        100, 104,  92,  98, 112, 105, 103, 110,  96,  97,  95, 111, 115,\n",
       "         96,  89,  97, 114,  99,  90, 100, 100,  97, 106, 106,  91, 113,\n",
       "         88,  81, 109, 106, 102,  99,  99, 104, 116,  97, 118, 105,  88,\n",
       "        101,  91,  94, 105, 117, 124,  98,  98, 108, 102,  96, 103, 105,\n",
       "        109, 103, 100,  91,  96, 103, 102, 113,  97, 105, 114, 110,  96,\n",
       "        108, 113, 109,  90, 120,  91, 104, 106,  97,  82,  96,  99,  97,\n",
       "        100, 106, 108, 103,  93,  81,  84,  87, 106, 108, 102,  97, 101,\n",
       "        100,  95, 105, 123, 131, 106, 104, 107, 106, 102, 105,  93, 103,\n",
       "        100,  95,  95,  99, 104, 109,  80,  93,  94,  94, 109, 103,  96,\n",
       "        103, 106, 104, 109, 100, 111,  91, 109, 100, 106, 105,  85,  94,\n",
       "         84, 107,  98,  93,  98, 104, 101, 103,  98,  90,  88,  99, 110,\n",
       "        113, 103,  90,  89,  91, 101, 101, 110,  99,  73, 102,  78,  92,\n",
       "        115,  99, 100, 112,  92, 106, 100,  75, 104, 107,  93,  99, 105,\n",
       "        100,  99, 103, 104,  76, 116, 101,  80,  98,  96,  98,  90, 105,\n",
       "         99, 116,  95, 101, 108, 107,  93,  92, 102, 101,  97, 106,  94,\n",
       "        112,  90, 109,  81, 109,  95, 100,  93,  90, 102, 100, 105, 109,\n",
       "        100, 106,  92,  95, 114,  96, 104,  96,  85,  84, 119,  92,  87,\n",
       "        109,  83, 115,  94,  89,  85,  95, 115,  98, 101,  96, 127,  84,\n",
       "         90, 102,  94,  93,  95,  67, 104, 100, 103,  98,  97,  99, 104,\n",
       "        116, 106,  97, 108, 104,  88, 103,  99,  95, 103, 107, 135,  90,\n",
       "         67,  92,  95, 102, 105,  97,  94,  98, 100, 112, 117,  98, 102,\n",
       "        106, 115, 110,  84, 106,  93, 107, 102, 102,  81, 100, 100, 106,\n",
       "        116,  94, 124, 107, 103, 100,  99, 107,  99,  89, 112,  95]))"
      ]
     },
     "execution_count": 58,
     "metadata": {},
     "output_type": "execute_result"
    }
   ],
   "source": [
    "x = np.arange(low,high + 1.0 , dtype=int)\n",
    "\n",
    "\n",
    "# Returns the sorted unique elements of an array. There are three optional outputs in addition to the unique elements:\n",
    "np.unique(rand_ints, return_counts = True)"
   ]
  },
  {
   "cell_type": "code",
   "execution_count": 60,
   "metadata": {},
   "outputs": [],
   "source": [
    "x , counts = np.unique(rand_ints, return_counts = True)"
   ]
  },
  {
   "cell_type": "code",
   "execution_count": 61,
   "metadata": {},
   "outputs": [
    {
     "data": {
      "text/plain": [
       "<BarContainer object of 1000 artists>"
      ]
     },
     "execution_count": 61,
     "metadata": {},
     "output_type": "execute_result"
    },
    {
     "data": {
      "image/png": "[encoded data removed]",
      "text/plain": [
       "<Figure size 1200x300 with 1 Axes>"
      ]
     },
     "metadata": {},
     "output_type": "display_data"
    }
   ],
   "source": [
    "#create an empty plot\n",
    "fig, ax =plt.subplots(figsize =(12,3))\n",
    "\n",
    "#plot a bar chart\n",
    "ax.bar(x,counts)"
   ]
  },
  {
   "cell_type": "markdown",
   "metadata": {},
   "source": [
    "## Plotting Histograms"
   ]
  },
  {
   "cell_type": "code",
   "execution_count": 66,
   "metadata": {},
   "outputs": [],
   "source": [
    "\n",
    "# The number of floating points numbers to generate\n",
    "size = 1000"
   ]
  },
  {
   "cell_type": "code",
   "execution_count": 67,
   "metadata": {},
   "outputs": [
    {
     "name": "stdout",
     "output_type": "stream",
     "text": [
      "[3.47013677e-01 9.01046981e-01 8.91665586e-01 6.62669667e-01\n",
      " 6.35015726e-01 8.27637868e-01 5.96161346e-02 6.22223390e-01\n",
      " 4.15708131e-01 5.73606194e-01 5.20800440e-02 8.88710848e-01\n",
      " 5.63189548e-01 6.22921972e-01 6.79336125e-01 5.69538921e-01\n",
      " 3.76052525e-01 6.48307038e-01 6.16192624e-01 5.73651693e-01\n",
      " 7.26406710e-01 5.75372876e-01 1.28874418e-01 1.26773753e-01\n",
      " 2.61166512e-01 1.17626335e-01 2.59764504e-01 6.12906996e-02\n",
      " 8.48514028e-01 3.87971333e-01 2.82328010e-01 8.05112792e-01\n",
      " 4.84469116e-01 4.19223737e-01 6.06158272e-01 3.83785374e-01\n",
      " 3.07408096e-01 3.47412165e-01 2.91745555e-03 3.74479575e-01\n",
      " 8.35372502e-01 9.05619953e-01 1.82760380e-01 1.09833682e-01\n",
      " 3.71680490e-01 4.44524022e-01 8.19931647e-01 7.72997109e-01\n",
      " 4.63373869e-01 4.95723536e-01 3.52614387e-02 9.36344341e-01\n",
      " 9.78812033e-01 2.39890836e-01 3.15253056e-01 7.86722106e-01\n",
      " 2.83927546e-01 3.87034534e-01 4.02613050e-01 9.43540065e-01\n",
      " 8.12758651e-01 3.21646712e-01 9.98792231e-01 8.99922184e-01\n",
      " 6.79197339e-01 8.25788184e-01 3.12118777e-03 5.98253979e-01\n",
      " 3.96220018e-01 8.86479914e-01 5.45366929e-02 8.51212806e-01\n",
      " 5.95333985e-01 6.35133634e-01 3.42906197e-01 9.91075292e-02\n",
      " 8.39053841e-01 7.67030180e-01 1.06832997e-01 1.92581867e-01\n",
      " 6.09614781e-01 7.89903923e-01 3.26418839e-01 7.18251756e-01\n",
      " 1.50221573e-01 3.31711454e-04 4.72663956e-01 8.22985566e-01\n",
      " 9.85409654e-01 1.82077117e-01 9.19466038e-01 6.03998619e-01\n",
      " 2.74141464e-01 2.94293986e-01 5.44082708e-01 5.25557651e-01\n",
      " 8.48077120e-01 3.82173496e-01 8.54214118e-01 4.35168169e-01\n",
      " 6.49876793e-01 2.54891207e-01 3.49235093e-01 7.20876094e-01\n",
      " 7.69302597e-01 3.07526024e-01 2.69662479e-01 2.12058082e-02\n",
      " 3.93579812e-01 6.05185711e-01 6.39754802e-02 1.32425655e-02\n",
      " 6.87116084e-01 2.78189691e-01 8.03792425e-01 6.62466351e-01\n",
      " 9.27436733e-02 4.07295648e-01 6.72451932e-01 3.56746205e-01\n",
      " 2.49496305e-01 9.02298460e-02 1.66555821e-01 7.76348270e-01\n",
      " 6.19932981e-01 1.52098335e-01 4.01071438e-01 4.82162927e-01\n",
      " 2.53740573e-01 9.29944478e-01 2.31686448e-01 1.00922144e-01\n",
      " 5.40683866e-01 7.09591223e-01 5.59638998e-01 6.24187224e-01\n",
      " 5.74618755e-01 1.84585143e-01 4.84486793e-01 6.56850029e-01\n",
      " 5.67301199e-01 4.14043376e-01 4.74881421e-01 7.02944891e-01\n",
      " 3.70357968e-01 5.72299643e-01 3.88654773e-01 8.89951209e-01\n",
      " 9.24103283e-01 7.25936371e-01 5.78481864e-01 6.16525598e-01\n",
      " 6.42724775e-01 6.99739399e-01 9.33291141e-04 1.80882539e-01\n",
      " 9.45060303e-01 8.27240524e-01 3.40694976e-01 2.53634379e-01\n",
      " 2.44448339e-01 8.80961104e-02 7.68337121e-01 7.63797031e-01\n",
      " 1.49933446e-01 4.08080134e-01 3.22552586e-02 7.51633045e-01\n",
      " 5.91629475e-01 2.03962928e-01 1.51438645e-01 6.49740006e-01\n",
      " 9.00037004e-01 8.14084663e-01 9.90762722e-01 9.09046811e-02\n",
      " 9.89952881e-01 6.41795649e-01 7.48131303e-01 2.89650743e-01\n",
      " 4.17358652e-01 6.53131013e-01 5.83461388e-02 8.96982457e-02\n",
      " 5.68076961e-01 5.86848761e-02 6.56292928e-01 1.15344912e-01\n",
      " 6.65120804e-01 3.04876501e-02 9.78767287e-01 1.99117614e-01\n",
      " 2.80123678e-01 3.83028688e-01 6.14940884e-01 3.54999875e-01\n",
      " 5.23751918e-01 8.95038543e-01 7.99393905e-01 1.17615866e-01\n",
      " 2.23809375e-02 6.29856325e-01 3.98530105e-01 2.37709448e-01\n",
      " 5.26845066e-01 3.71609900e-01 3.36585904e-01 5.35924057e-01\n",
      " 3.14192488e-01 7.28476256e-01 7.51710112e-01 4.24221139e-01\n",
      " 2.98808637e-02 4.72043906e-01 1.09544328e-01 2.53373971e-01\n",
      " 7.09947206e-01 6.42832602e-02 8.60548938e-01 2.41795507e-01\n",
      " 7.14833631e-01 1.48770062e-01 2.15175123e-01 5.01968437e-01\n",
      " 6.17527117e-01 4.09463741e-01 3.88303243e-01 8.50746146e-01\n",
      " 8.80047185e-01 3.71265339e-01 9.22288828e-01 7.26760945e-01\n",
      " 9.19256266e-01 2.67927039e-02 1.08949927e-01 5.19790619e-01\n",
      " 5.46882305e-01 3.70817071e-01 9.22625756e-01 5.64090589e-01\n",
      " 7.82908798e-01 5.11936440e-01 1.22136962e-01 6.20924546e-02\n",
      " 7.10252739e-01 6.61281798e-03 8.72529341e-01 4.30327939e-01\n",
      " 6.70553615e-01 3.65810924e-01 6.79102417e-01 9.08409414e-02\n",
      " 1.18005219e-01 6.31685272e-01 5.83342800e-01 8.43675261e-01\n",
      " 4.39835360e-01 3.80841721e-01 7.20925928e-01 6.69673559e-02\n",
      " 1.75712192e-01 8.33434010e-01 1.43259022e-01 8.23261401e-01\n",
      " 5.80114132e-01 8.91618238e-01 6.03269986e-01 4.67890499e-01\n",
      " 2.23845534e-01 2.30799454e-01 4.99008036e-01 9.14235083e-01\n",
      " 4.49031763e-01 9.34403915e-01 4.23321742e-02 5.20467768e-01\n",
      " 5.15040266e-01 2.78243192e-01 7.87120680e-01 6.07756231e-01\n",
      " 9.90524989e-01 8.73807981e-01 8.04443983e-01 4.31535866e-01\n",
      " 1.38923984e-01 8.32354427e-01 1.76137232e-01 6.31771762e-01\n",
      " 8.43891124e-01 7.64108376e-01 7.39866426e-01 1.67741992e-01\n",
      " 1.10126671e-01 3.26306691e-01 2.20225052e-01 7.71022935e-01\n",
      " 1.88953193e-01 6.57231701e-01 1.62805351e-01 3.46705294e-02\n",
      " 9.45111065e-01 6.10105776e-01 7.73580743e-01 3.25205249e-01\n",
      " 8.72519370e-01 5.80301873e-02 8.55136931e-01 6.93018109e-01\n",
      " 1.47255266e-01 1.98495723e-01 6.02447646e-01 2.85580628e-01\n",
      " 9.72048528e-01 1.50037508e-02 7.59246871e-01 5.45484390e-01\n",
      " 4.31819213e-01 5.18545299e-01 1.10519393e-01 1.23725846e-01\n",
      " 2.15875043e-01 2.04228585e-02 4.68628338e-01 6.70355937e-01\n",
      " 9.28549375e-02 2.23658541e-01 2.58547437e-01 9.92105582e-01\n",
      " 5.88877617e-02 2.27908956e-01 9.96881813e-01 7.33494079e-01\n",
      " 8.37132099e-01 3.47485064e-01 5.24961715e-01 5.06133010e-01\n",
      " 6.56990597e-02 6.90951625e-01 6.98695428e-01 9.01118524e-01\n",
      " 3.37726599e-01 2.32660023e-01 4.95702759e-01 6.85823864e-01\n",
      " 5.15616527e-01 4.09992638e-02 6.44034796e-01 4.85933241e-01\n",
      " 6.61642517e-01 9.58244795e-01 8.07077537e-01 1.06512165e-01\n",
      " 8.31643993e-01 4.89218653e-01 5.83431955e-01 6.93813567e-01\n",
      " 3.49134748e-01 6.81206077e-01 8.71128448e-01 9.00187274e-01\n",
      " 8.53682474e-01 1.02231140e-01 4.92869985e-01 8.22483246e-01\n",
      " 8.03500002e-01 9.45973859e-01 2.41582728e-01 4.73886233e-01\n",
      " 9.01703210e-01 7.85077479e-01 9.69237489e-03 7.64132954e-01\n",
      " 4.33320513e-01 9.11967221e-01 5.74066575e-02 8.83518193e-01\n",
      " 4.56993737e-01 6.64443750e-01 2.83948290e-01 3.47374665e-01\n",
      " 2.73365875e-02 7.51603618e-01 5.60373554e-01 5.31329646e-01\n",
      " 2.47166690e-01 2.38019717e-01 8.44450546e-01 3.71468699e-01\n",
      " 9.48413456e-01 4.53118560e-02 6.83917977e-01 4.33770187e-01\n",
      " 5.21430833e-01 2.69089031e-01 3.30218266e-02 1.96257568e-01\n",
      " 7.78286851e-01 5.61593255e-01 9.31556038e-01 4.20209747e-01\n",
      " 1.33633467e-01 3.07619517e-01 2.87887301e-01 1.89798094e-01\n",
      " 7.68258806e-01 3.43871192e-01 5.99160958e-01 6.38273739e-01\n",
      " 1.15253251e-01 8.68216384e-01 7.18371638e-01 1.50676602e-01\n",
      " 2.99244796e-01 2.37354292e-01 6.66721310e-01 6.13247976e-01\n",
      " 5.15465312e-01 9.85075291e-01 6.83625479e-01 5.50091744e-01\n",
      " 2.02157998e-01 3.26665786e-01 8.57002759e-01 6.40818239e-02\n",
      " 3.65667380e-01 2.79023162e-01 2.13858392e-03 2.68162991e-02\n",
      " 1.58777703e-01 4.70459282e-01 8.61617779e-01 9.36382310e-01\n",
      " 8.23749506e-01 5.11090418e-01 5.99961644e-02 5.34705623e-01\n",
      " 1.04314756e-01 6.29094439e-02 9.32721446e-01 7.88254355e-01\n",
      " 7.26006870e-01 5.75829130e-01 7.51396129e-01 2.43672978e-02\n",
      " 5.71138499e-02 3.18254778e-03 2.42193358e-01 9.24545528e-01\n",
      " 1.12920516e-01 4.69035522e-01 3.80856884e-02 1.03532450e-01\n",
      " 3.51246322e-02 3.46400069e-01 8.48284861e-01 3.45672612e-01\n",
      " 1.67782537e-01 3.03332064e-01 6.59937173e-01 5.14038141e-01\n",
      " 3.15130356e-02 4.49707215e-01 1.96344472e-01 5.89523065e-01\n",
      " 6.38950851e-01 8.05887201e-01 2.31116010e-01 9.74085145e-01\n",
      " 2.48020356e-01 1.77448520e-01 7.02981670e-01 3.79749780e-02\n",
      " 9.62771644e-01 4.74655164e-01 2.59275419e-01 6.80461812e-01\n",
      " 7.75484342e-01 2.06898115e-01 3.65958601e-01 9.83234285e-01\n",
      " 3.14680948e-01 2.88675064e-01 7.16934594e-01 5.04846422e-01\n",
      " 4.32416179e-01 7.81377187e-01 7.23406662e-01 5.91513859e-01\n",
      " 9.65800857e-01 3.68040997e-01 3.02664723e-01 2.50974490e-01\n",
      " 6.01821225e-01 4.41610636e-01 3.78676108e-01 4.42975154e-01\n",
      " 3.29416944e-01 2.46502423e-01 4.40845262e-01 2.21357940e-02\n",
      " 7.51031146e-01 2.81102408e-01 3.17584213e-02 8.15569404e-01\n",
      " 8.67148060e-01 7.68577189e-01 1.32629342e-01 8.66724481e-01\n",
      " 4.17175606e-01 1.78219964e-01 4.41713059e-01 2.94529479e-01\n",
      " 1.77644151e-01 8.78095749e-02 4.29168358e-01 2.34503438e-01\n",
      " 5.99916138e-01 8.76897656e-01 9.67637033e-01 1.92142251e-01\n",
      " 8.65973627e-02 3.35874092e-01 6.35489269e-01 6.27322775e-01\n",
      " 2.58191676e-01 9.91528179e-01 5.78754196e-01 3.16882177e-01\n",
      " 7.25146592e-01 8.71754517e-01 2.20797280e-01 4.80029493e-01\n",
      " 2.03018839e-01 4.63596460e-01 7.22560028e-01 2.23279532e-01\n",
      " 6.90493393e-01 5.68856864e-01 9.15209440e-01 7.15237418e-01\n",
      " 5.28390340e-01 9.61672559e-01 2.31206725e-01 9.06760105e-01\n",
      " 9.64582062e-01 6.75812822e-01 2.97769364e-01 2.20082820e-01\n",
      " 1.33877364e-01 6.87469296e-01 4.61241112e-01 8.42631898e-01\n",
      " 2.81840483e-01 1.17098930e-01 9.05487561e-01 6.79862947e-02\n",
      " 9.19600254e-01 7.15608776e-01 5.16063481e-01 1.79714782e-01\n",
      " 8.77951976e-01 4.75325492e-01 4.86648540e-01 9.35680034e-01\n",
      " 7.92909656e-01 4.49778936e-01 3.95149487e-01 6.73362554e-01\n",
      " 2.16592912e-01 3.70588284e-01 3.84870707e-01 8.56750269e-01\n",
      " 8.17601927e-01 3.58566076e-01 6.14067225e-02 9.26183876e-01\n",
      " 3.11126029e-01 8.63049801e-01 6.91463766e-01 1.46116837e-01\n",
      " 4.45731075e-01 4.07864056e-01 6.44007465e-01 4.18822407e-01\n",
      " 3.57910531e-02 5.49614830e-01 7.90357941e-01 2.35198882e-01\n",
      " 1.09708341e-01 6.95730684e-01 6.16336487e-01 8.75609223e-01\n",
      " 1.92491158e-02 1.46192594e-01 4.02626169e-01 9.72473918e-01\n",
      " 5.04786150e-01 1.80197548e-01 9.92426907e-02 1.95289997e-02\n",
      " 7.14861724e-01 2.94454037e-01 5.98177149e-01 6.78611905e-01\n",
      " 3.44659251e-01 1.84757323e-01 3.30378664e-01 7.09978929e-01\n",
      " 4.09265909e-01 8.29845845e-01 6.56694617e-01 8.29465072e-01\n",
      " 7.19783283e-01 6.12836394e-01 4.45539914e-01 5.85170569e-01\n",
      " 8.23852513e-01 7.14356558e-01 8.38480146e-01 5.37423255e-01\n",
      " 1.26100923e-01 6.69088208e-01 2.42002128e-01 4.90454602e-01\n",
      " 2.88422047e-01 9.81250340e-01 7.23766646e-01 3.63858719e-01\n",
      " 5.88354140e-01 8.71421918e-01 3.01284124e-01 8.29242676e-01\n",
      " 5.34499296e-01 8.45247993e-01 2.44203276e-02 4.19433855e-02\n",
      " 2.66397616e-01 8.25988717e-01 3.77458185e-01 3.89268855e-01\n",
      " 2.23730513e-01 6.25143524e-01 8.51196649e-01 8.74340020e-01\n",
      " 7.80846563e-01 8.95255280e-01 9.97673384e-01 3.87351104e-01\n",
      " 5.39879369e-01 2.61154624e-01 9.15840936e-01 6.38780791e-01\n",
      " 2.63764765e-01 7.21574773e-02 6.90810226e-01 7.59917756e-01\n",
      " 6.52003338e-01 6.83206962e-01 7.76472644e-01 2.30997245e-01\n",
      " 1.19666710e-01 9.58330311e-01 9.56945468e-01 8.80715362e-01\n",
      " 5.26838105e-01 8.60575599e-01 5.15357721e-01 5.95282120e-01\n",
      " 9.08205333e-01 8.43430058e-01 6.24512628e-01 9.07411726e-01\n",
      " 4.62394629e-01 4.95240819e-03 9.55507122e-01 9.15987956e-01\n",
      " 4.39787908e-01 4.23616888e-01 4.67099070e-01 6.20060755e-01\n",
      " 9.83235153e-01 3.49961347e-01 4.74839421e-01 4.02781569e-01\n",
      " 4.14351077e-01 3.29746830e-01 8.34533118e-01 1.02500908e-01\n",
      " 7.82137420e-01 8.15659770e-02 5.10454012e-01 8.57790940e-01\n",
      " 5.46348911e-01 9.69961759e-01 6.57699786e-01 9.44703677e-02\n",
      " 1.38086071e-01 1.13342753e-01 6.17575144e-01 8.66293873e-01\n",
      " 9.16573240e-01 2.39786832e-01 6.18673267e-01 3.43261502e-01\n",
      " 8.64020574e-01 3.94245529e-01 7.10721655e-01 8.76358879e-02\n",
      " 2.91050109e-01 8.40431999e-01 9.37442266e-02 4.03126915e-01\n",
      " 7.03120843e-01 4.54984492e-01 5.72116555e-01 4.88328920e-01\n",
      " 1.47946342e-02 4.31826209e-01 4.50885591e-01 2.16012909e-01\n",
      " 8.73702185e-01 2.86429818e-01 3.75937268e-01 6.08398797e-01\n",
      " 8.95572249e-01 7.76776376e-01 8.89120364e-01 8.50004752e-01\n",
      " 2.10205316e-01 4.97555965e-01 2.69693828e-01 9.01989823e-01\n",
      " 2.56818358e-01 7.19412038e-01 3.91404618e-01 9.45057594e-01\n",
      " 7.95277177e-01 5.48735066e-01 7.47089407e-01 3.14469266e-01\n",
      " 4.31717437e-01 2.66701102e-01 2.76370081e-01 7.39114238e-01\n",
      " 6.39837437e-01 4.17858468e-02 2.09490918e-01 7.48705467e-01\n",
      " 2.69790011e-01 8.57475862e-02 9.99464324e-01 2.18163630e-01\n",
      " 6.22242788e-01 9.27270976e-01 9.05049736e-02 6.08380015e-01\n",
      " 3.29738099e-01 5.35695130e-01 1.31875414e-01 1.81141146e-01\n",
      " 3.29229749e-01 8.56781645e-01 2.80649825e-01 2.18284026e-02\n",
      " 9.68426148e-01 1.02841006e-01 9.01252875e-01 9.67495130e-01\n",
      " 4.59847975e-01 3.22589566e-01 8.24389847e-01 1.59134961e-01\n",
      " 9.10021491e-01 4.88856498e-01 3.60172202e-01 4.70838684e-01\n",
      " 1.44202658e-01 8.27507749e-01 8.25372274e-01 8.01000180e-01\n",
      " 3.32634958e-01 7.91117211e-01 9.06211740e-01 5.18608142e-01\n",
      " 9.20520074e-01 4.82038116e-01 8.34858606e-01 9.10802692e-01\n",
      " 5.84224183e-02 4.87592662e-01 2.25534490e-01 5.86061341e-01\n",
      " 2.79489310e-01 9.07545526e-01 7.47317741e-01 6.05833589e-02\n",
      " 9.00929892e-01 1.66278134e-02 2.09421257e-01 6.73886821e-01\n",
      " 4.30806940e-02 5.97336241e-02 3.21205607e-01 3.15396008e-01\n",
      " 4.64400621e-01 3.78771731e-01 5.34111303e-01 6.09731911e-01\n",
      " 1.74528544e-01 3.58708609e-01 1.49278699e-01 4.14470949e-01\n",
      " 2.68925314e-01 3.48760645e-01 6.34057206e-01 3.15825010e-01\n",
      " 4.49879498e-01 2.56960518e-01 9.54769518e-01 7.81842243e-01\n",
      " 3.92089834e-01 5.52421497e-01 9.57578231e-01 8.90834928e-02\n",
      " 5.99488209e-01 6.07963600e-01 5.94606614e-01 7.82046769e-01\n",
      " 2.46024832e-01 9.77622209e-01 5.93547033e-01 4.35171943e-01\n",
      " 8.17272702e-01 4.31309125e-02 6.42836328e-01 8.54870149e-01\n",
      " 9.34223688e-01 3.12869144e-01 2.95973561e-01 5.60310782e-01\n",
      " 9.68315934e-01 6.08818652e-01 6.88987488e-01 5.48091829e-01\n",
      " 7.34945585e-01 7.39424201e-01 1.20587129e-01 5.18549685e-02\n",
      " 2.65321398e-01 9.77470124e-01 7.11555701e-01 7.31086858e-01\n",
      " 7.30783291e-01 4.50014413e-01 1.26255530e-01 5.22241348e-01\n",
      " 4.32261400e-01 8.38066503e-01 3.08997490e-01 7.12736593e-01\n",
      " 4.59653561e-01 8.52179191e-01 4.24265876e-01 1.35986757e-01\n",
      " 6.28322349e-01 2.76701983e-01 3.52475432e-01 5.85381124e-01\n",
      " 8.40731974e-01 1.44220757e-01 2.01610062e-01 3.23925267e-01\n",
      " 2.67681967e-01 7.55507917e-01 7.39328394e-01 7.70568011e-01\n",
      " 2.47801887e-01 6.78736348e-01 9.85037024e-01 2.79842760e-01\n",
      " 1.36561911e-01 8.82664706e-01 5.67861770e-01 9.25044127e-01\n",
      " 6.55599178e-01 6.61983177e-01 2.22439170e-01 5.79031914e-01\n",
      " 8.30426355e-01 7.11794482e-01 5.92511941e-01 6.25338836e-01\n",
      " 6.50723118e-01 9.86542612e-01 8.53845268e-01 9.40314874e-01\n",
      " 3.41571802e-01 8.28070582e-01 2.08658410e-01 1.76411682e-01\n",
      " 5.68629720e-01 6.54268732e-01 7.29341395e-01 2.67381154e-01\n",
      " 3.73423422e-01 8.06897491e-01 5.79559819e-01 4.54924429e-01\n",
      " 4.54285769e-01 3.43122661e-02 6.25026019e-01 7.33829825e-01\n",
      " 3.87391980e-01 3.40253081e-01 3.74812676e-01 4.45092526e-02\n",
      " 4.82082648e-01 2.20256926e-01 2.33538407e-01 1.83217733e-01\n",
      " 5.23303541e-01 4.60466233e-01 6.92833041e-01 8.34470339e-01\n",
      " 1.68179541e-02 5.11282485e-01 6.24206042e-01 7.71622549e-01\n",
      " 3.79946562e-01 7.57841390e-02 2.50010812e-01 7.87807197e-01\n",
      " 9.01018277e-01 8.27222827e-01 3.64445634e-01 4.70935925e-01\n",
      " 8.82919018e-01 2.25668840e-01 3.83799829e-01 9.84667813e-01\n",
      " 6.33966333e-01 5.28708039e-01 8.43222330e-01 1.20949659e-01\n",
      " 9.09016357e-01 3.75379428e-01 3.91776110e-01 7.06279851e-02\n",
      " 7.14313202e-01 6.21864258e-01 9.42493678e-01 7.20554680e-01\n",
      " 1.35701884e-01 9.48876468e-01 6.88756643e-01 6.02417091e-01\n",
      " 1.31907461e-01 8.62847003e-01 7.94468368e-01 4.42854902e-01\n",
      " 8.03989943e-01 5.25020485e-01 2.53327236e-01 9.42307427e-01\n",
      " 6.94031717e-01 6.94197652e-02 4.58566972e-01 8.58602494e-01\n",
      " 7.34091644e-01 3.16973030e-01 9.48506660e-02 1.12899627e-01\n",
      " 3.00545360e-01 1.28707667e-02 5.32125338e-01 6.91064136e-02\n",
      " 9.15402780e-01 1.02148732e-01 6.24673415e-01 2.93883701e-01\n",
      " 5.89420937e-01 7.80079921e-01 3.10585812e-01 6.19122773e-01\n",
      " 5.71695876e-01 9.67694185e-01 3.07514077e-01 7.87014186e-01\n",
      " 1.54496367e-01 5.82642504e-02 9.19333972e-02 4.76913223e-01\n",
      " 8.85254772e-01 6.89777720e-01 4.54634309e-01 2.12589036e-01\n",
      " 5.92695955e-01 3.29296734e-01 1.85165865e-01 1.38681268e-01]\n"
     ]
    }
   ],
   "source": [
    "\n",
    "rand_floats = rng.random(size)\n",
    "print(rand_floats)"
   ]
  },
  {
   "cell_type": "code",
   "execution_count": 68,
   "metadata": {},
   "outputs": [
    {
     "name": "stdout",
     "output_type": "stream",
     "text": [
      "[3.31711454e-04 9.33291141e-04 2.13858392e-03 2.91745555e-03\n",
      " 3.12118777e-03 3.18254778e-03 4.95240819e-03 6.61281798e-03\n",
      " 9.69237489e-03 1.28707667e-02 1.32425655e-02 1.47946342e-02\n",
      " 1.50037508e-02 1.66278134e-02 1.68179541e-02 1.92491158e-02\n",
      " 1.95289997e-02 2.04228585e-02 2.12058082e-02 2.18284026e-02\n",
      " 2.21357940e-02 2.23809375e-02 2.43672978e-02 2.44203276e-02\n",
      " 2.67927039e-02 2.68162991e-02 2.73365875e-02 2.98808637e-02\n",
      " 3.04876501e-02 3.15130356e-02 3.17584213e-02 3.22552586e-02\n",
      " 3.30218266e-02 3.43122661e-02 3.46705294e-02 3.51246322e-02\n",
      " 3.52614387e-02 3.57910531e-02 3.79749780e-02 3.80856884e-02\n",
      " 4.09992638e-02 4.17858468e-02 4.19433855e-02 4.23321742e-02\n",
      " 4.30806940e-02 4.31309125e-02 4.45092526e-02 4.53118560e-02\n",
      " 5.18549685e-02 5.20800440e-02 5.45366929e-02 5.71138499e-02\n",
      " 5.74066575e-02 5.80301873e-02 5.82642504e-02 5.83461388e-02\n",
      " 5.84224183e-02 5.86848761e-02 5.88877617e-02 5.96161346e-02\n",
      " 5.97336241e-02 5.99961644e-02 6.05833589e-02 6.12906996e-02\n",
      " 6.14067225e-02 6.20924546e-02 6.29094439e-02 6.39754802e-02\n",
      " 6.40818239e-02 6.42832602e-02 6.56990597e-02 6.69673559e-02\n",
      " 6.79862947e-02 6.91064136e-02 6.94197652e-02 7.06279851e-02\n",
      " 7.21574773e-02 7.57841390e-02 8.15659770e-02 8.57475862e-02\n",
      " 8.65973627e-02 8.76358879e-02 8.78095749e-02 8.80961104e-02\n",
      " 8.90834928e-02 8.96982457e-02 9.02298460e-02 9.05049736e-02\n",
      " 9.08409414e-02 9.09046811e-02 9.19333972e-02 9.27436733e-02\n",
      " 9.28549375e-02 9.37442266e-02 9.44703677e-02 9.48506660e-02\n",
      " 9.91075292e-02 9.92426907e-02 1.00922144e-01 1.02148732e-01\n",
      " 1.02231140e-01 1.02500908e-01 1.02841006e-01 1.03532450e-01\n",
      " 1.04314756e-01 1.06512165e-01 1.06832997e-01 1.08949927e-01\n",
      " 1.09544328e-01 1.09708341e-01 1.09833682e-01 1.10126671e-01\n",
      " 1.10519393e-01 1.12899627e-01 1.12920516e-01 1.13342753e-01\n",
      " 1.15253251e-01 1.15344912e-01 1.17098930e-01 1.17615866e-01\n",
      " 1.17626335e-01 1.18005219e-01 1.19666710e-01 1.20587129e-01\n",
      " 1.20949659e-01 1.22136962e-01 1.23725846e-01 1.26100923e-01\n",
      " 1.26255530e-01 1.26773753e-01 1.28874418e-01 1.31875414e-01\n",
      " 1.31907461e-01 1.32629342e-01 1.33633467e-01 1.33877364e-01\n",
      " 1.35701884e-01 1.35986757e-01 1.36561911e-01 1.38086071e-01\n",
      " 1.38681268e-01 1.38923984e-01 1.43259022e-01 1.44202658e-01\n",
      " 1.44220757e-01 1.46116837e-01 1.46192594e-01 1.47255266e-01\n",
      " 1.48770062e-01 1.49278699e-01 1.49933446e-01 1.50221573e-01\n",
      " 1.50676602e-01 1.51438645e-01 1.52098335e-01 1.54496367e-01\n",
      " 1.58777703e-01 1.59134961e-01 1.62805351e-01 1.66555821e-01\n",
      " 1.67741992e-01 1.67782537e-01 1.74528544e-01 1.75712192e-01\n",
      " 1.76137232e-01 1.76411682e-01 1.77448520e-01 1.77644151e-01\n",
      " 1.78219964e-01 1.79714782e-01 1.80197548e-01 1.80882539e-01\n",
      " 1.81141146e-01 1.82077117e-01 1.82760380e-01 1.83217733e-01\n",
      " 1.84585143e-01 1.84757323e-01 1.85165865e-01 1.88953193e-01\n",
      " 1.89798094e-01 1.92142251e-01 1.92581867e-01 1.96257568e-01\n",
      " 1.96344472e-01 1.98495723e-01 1.99117614e-01 2.01610062e-01\n",
      " 2.02157998e-01 2.03018839e-01 2.03962928e-01 2.06898115e-01\n",
      " 2.08658410e-01 2.09421257e-01 2.09490918e-01 2.10205316e-01\n",
      " 2.12589036e-01 2.15175123e-01 2.15875043e-01 2.16012909e-01\n",
      " 2.16592912e-01 2.18163630e-01 2.20082820e-01 2.20225052e-01\n",
      " 2.20256926e-01 2.20797280e-01 2.22439170e-01 2.23279532e-01\n",
      " 2.23658541e-01 2.23730513e-01 2.23845534e-01 2.25534490e-01\n",
      " 2.25668840e-01 2.27908956e-01 2.30799454e-01 2.30997245e-01\n",
      " 2.31116010e-01 2.31206725e-01 2.31686448e-01 2.32660023e-01\n",
      " 2.33538407e-01 2.34503438e-01 2.35198882e-01 2.37354292e-01\n",
      " 2.37709448e-01 2.38019717e-01 2.39786832e-01 2.39890836e-01\n",
      " 2.41582728e-01 2.41795507e-01 2.42002128e-01 2.42193358e-01\n",
      " 2.44448339e-01 2.46024832e-01 2.46502423e-01 2.47166690e-01\n",
      " 2.47801887e-01 2.48020356e-01 2.49496305e-01 2.50010812e-01\n",
      " 2.50974490e-01 2.53327236e-01 2.53373971e-01 2.53634379e-01\n",
      " 2.53740573e-01 2.54891207e-01 2.56818358e-01 2.56960518e-01\n",
      " 2.58191676e-01 2.58547437e-01 2.59275419e-01 2.59764504e-01\n",
      " 2.61154624e-01 2.61166512e-01 2.63764765e-01 2.65321398e-01\n",
      " 2.66397616e-01 2.66701102e-01 2.67381154e-01 2.67681967e-01\n",
      " 2.68925314e-01 2.69089031e-01 2.69662479e-01 2.69693828e-01\n",
      " 2.69790011e-01 2.74141464e-01 2.76370081e-01 2.76701983e-01\n",
      " 2.78189691e-01 2.78243192e-01 2.79023162e-01 2.79489310e-01\n",
      " 2.79842760e-01 2.80123678e-01 2.80649825e-01 2.81102408e-01\n",
      " 2.81840483e-01 2.82328010e-01 2.83927546e-01 2.83948290e-01\n",
      " 2.85580628e-01 2.86429818e-01 2.87887301e-01 2.88422047e-01\n",
      " 2.88675064e-01 2.89650743e-01 2.91050109e-01 2.93883701e-01\n",
      " 2.94293986e-01 2.94454037e-01 2.94529479e-01 2.95973561e-01\n",
      " 2.97769364e-01 2.99244796e-01 3.00545360e-01 3.01284124e-01\n",
      " 3.02664723e-01 3.03332064e-01 3.07408096e-01 3.07514077e-01\n",
      " 3.07526024e-01 3.07619517e-01 3.08997490e-01 3.10585812e-01\n",
      " 3.11126029e-01 3.12869144e-01 3.14192488e-01 3.14469266e-01\n",
      " 3.14680948e-01 3.15253056e-01 3.15396008e-01 3.15825010e-01\n",
      " 3.16882177e-01 3.16973030e-01 3.21205607e-01 3.21646712e-01\n",
      " 3.22589566e-01 3.23925267e-01 3.25205249e-01 3.26306691e-01\n",
      " 3.26418839e-01 3.26665786e-01 3.29229749e-01 3.29296734e-01\n",
      " 3.29416944e-01 3.29738099e-01 3.29746830e-01 3.30378664e-01\n",
      " 3.32634958e-01 3.35874092e-01 3.36585904e-01 3.37726599e-01\n",
      " 3.40253081e-01 3.40694976e-01 3.41571802e-01 3.42906197e-01\n",
      " 3.43261502e-01 3.43871192e-01 3.44659251e-01 3.45672612e-01\n",
      " 3.46400069e-01 3.47013677e-01 3.47374665e-01 3.47412165e-01\n",
      " 3.47485064e-01 3.48760645e-01 3.49134748e-01 3.49235093e-01\n",
      " 3.49961347e-01 3.52475432e-01 3.54999875e-01 3.56746205e-01\n",
      " 3.58566076e-01 3.58708609e-01 3.60172202e-01 3.63858719e-01\n",
      " 3.64445634e-01 3.65667380e-01 3.65810924e-01 3.65958601e-01\n",
      " 3.68040997e-01 3.70357968e-01 3.70588284e-01 3.70817071e-01\n",
      " 3.71265339e-01 3.71468699e-01 3.71609900e-01 3.71680490e-01\n",
      " 3.73423422e-01 3.74479575e-01 3.74812676e-01 3.75379428e-01\n",
      " 3.75937268e-01 3.76052525e-01 3.77458185e-01 3.78676108e-01\n",
      " 3.78771731e-01 3.79946562e-01 3.80841721e-01 3.82173496e-01\n",
      " 3.83028688e-01 3.83785374e-01 3.83799829e-01 3.84870707e-01\n",
      " 3.87034534e-01 3.87351104e-01 3.87391980e-01 3.87971333e-01\n",
      " 3.88303243e-01 3.88654773e-01 3.89268855e-01 3.91404618e-01\n",
      " 3.91776110e-01 3.92089834e-01 3.93579812e-01 3.94245529e-01\n",
      " 3.95149487e-01 3.96220018e-01 3.98530105e-01 4.01071438e-01\n",
      " 4.02613050e-01 4.02626169e-01 4.02781569e-01 4.03126915e-01\n",
      " 4.07295648e-01 4.07864056e-01 4.08080134e-01 4.09265909e-01\n",
      " 4.09463741e-01 4.14043376e-01 4.14351077e-01 4.14470949e-01\n",
      " 4.15708131e-01 4.17175606e-01 4.17358652e-01 4.18822407e-01\n",
      " 4.19223737e-01 4.20209747e-01 4.23616888e-01 4.24221139e-01\n",
      " 4.24265876e-01 4.29168358e-01 4.30327939e-01 4.31535866e-01\n",
      " 4.31717437e-01 4.31819213e-01 4.31826209e-01 4.32261400e-01\n",
      " 4.32416179e-01 4.33320513e-01 4.33770187e-01 4.35168169e-01\n",
      " 4.35171943e-01 4.39787908e-01 4.39835360e-01 4.40845262e-01\n",
      " 4.41610636e-01 4.41713059e-01 4.42854902e-01 4.42975154e-01\n",
      " 4.44524022e-01 4.45539914e-01 4.45731075e-01 4.49031763e-01\n",
      " 4.49707215e-01 4.49778936e-01 4.49879498e-01 4.50014413e-01\n",
      " 4.50885591e-01 4.54285769e-01 4.54634309e-01 4.54924429e-01\n",
      " 4.54984492e-01 4.56993737e-01 4.58566972e-01 4.59653561e-01\n",
      " 4.59847975e-01 4.60466233e-01 4.61241112e-01 4.62394629e-01\n",
      " 4.63373869e-01 4.63596460e-01 4.64400621e-01 4.67099070e-01\n",
      " 4.67890499e-01 4.68628338e-01 4.69035522e-01 4.70459282e-01\n",
      " 4.70838684e-01 4.70935925e-01 4.72043906e-01 4.72663956e-01\n",
      " 4.73886233e-01 4.74655164e-01 4.74839421e-01 4.74881421e-01\n",
      " 4.75325492e-01 4.76913223e-01 4.80029493e-01 4.82038116e-01\n",
      " 4.82082648e-01 4.82162927e-01 4.84469116e-01 4.84486793e-01\n",
      " 4.85933241e-01 4.86648540e-01 4.87592662e-01 4.88328920e-01\n",
      " 4.88856498e-01 4.89218653e-01 4.90454602e-01 4.92869985e-01\n",
      " 4.95702759e-01 4.95723536e-01 4.97555965e-01 4.99008036e-01\n",
      " 5.01968437e-01 5.04786150e-01 5.04846422e-01 5.06133010e-01\n",
      " 5.10454012e-01 5.11090418e-01 5.11282485e-01 5.11936440e-01\n",
      " 5.14038141e-01 5.15040266e-01 5.15357721e-01 5.15465312e-01\n",
      " 5.15616527e-01 5.16063481e-01 5.18545299e-01 5.18608142e-01\n",
      " 5.19790619e-01 5.20467768e-01 5.21430833e-01 5.22241348e-01\n",
      " 5.23303541e-01 5.23751918e-01 5.24961715e-01 5.25020485e-01\n",
      " 5.25557651e-01 5.26838105e-01 5.26845066e-01 5.28390340e-01\n",
      " 5.28708039e-01 5.31329646e-01 5.32125338e-01 5.34111303e-01\n",
      " 5.34499296e-01 5.34705623e-01 5.35695130e-01 5.35924057e-01\n",
      " 5.37423255e-01 5.39879369e-01 5.40683866e-01 5.44082708e-01\n",
      " 5.45484390e-01 5.46348911e-01 5.46882305e-01 5.48091829e-01\n",
      " 5.48735066e-01 5.49614830e-01 5.50091744e-01 5.52421497e-01\n",
      " 5.59638998e-01 5.60310782e-01 5.60373554e-01 5.61593255e-01\n",
      " 5.63189548e-01 5.64090589e-01 5.67301199e-01 5.67861770e-01\n",
      " 5.68076961e-01 5.68629720e-01 5.68856864e-01 5.69538921e-01\n",
      " 5.71695876e-01 5.72116555e-01 5.72299643e-01 5.73606194e-01\n",
      " 5.73651693e-01 5.74618755e-01 5.75372876e-01 5.75829130e-01\n",
      " 5.78481864e-01 5.78754196e-01 5.79031914e-01 5.79559819e-01\n",
      " 5.80114132e-01 5.83342800e-01 5.83431955e-01 5.85170569e-01\n",
      " 5.85381124e-01 5.86061341e-01 5.88354140e-01 5.89420937e-01\n",
      " 5.89523065e-01 5.91513859e-01 5.91629475e-01 5.92511941e-01\n",
      " 5.92695955e-01 5.93547033e-01 5.94606614e-01 5.95282120e-01\n",
      " 5.95333985e-01 5.98177149e-01 5.98253979e-01 5.99160958e-01\n",
      " 5.99488209e-01 5.99916138e-01 6.01821225e-01 6.02417091e-01\n",
      " 6.02447646e-01 6.03269986e-01 6.03998619e-01 6.05185711e-01\n",
      " 6.06158272e-01 6.07756231e-01 6.07963600e-01 6.08380015e-01\n",
      " 6.08398797e-01 6.08818652e-01 6.09614781e-01 6.09731911e-01\n",
      " 6.10105776e-01 6.12836394e-01 6.13247976e-01 6.14940884e-01\n",
      " 6.16192624e-01 6.16336487e-01 6.16525598e-01 6.17527117e-01\n",
      " 6.17575144e-01 6.18673267e-01 6.19122773e-01 6.19932981e-01\n",
      " 6.20060755e-01 6.21864258e-01 6.22223390e-01 6.22242788e-01\n",
      " 6.22921972e-01 6.24187224e-01 6.24206042e-01 6.24512628e-01\n",
      " 6.24673415e-01 6.25026019e-01 6.25143524e-01 6.25338836e-01\n",
      " 6.27322775e-01 6.28322349e-01 6.29856325e-01 6.31685272e-01\n",
      " 6.31771762e-01 6.33966333e-01 6.34057206e-01 6.35015726e-01\n",
      " 6.35133634e-01 6.35489269e-01 6.38273739e-01 6.38780791e-01\n",
      " 6.38950851e-01 6.39837437e-01 6.41795649e-01 6.42724775e-01\n",
      " 6.42836328e-01 6.44007465e-01 6.44034796e-01 6.48307038e-01\n",
      " 6.49740006e-01 6.49876793e-01 6.50723118e-01 6.52003338e-01\n",
      " 6.53131013e-01 6.54268732e-01 6.55599178e-01 6.56292928e-01\n",
      " 6.56694617e-01 6.56850029e-01 6.57231701e-01 6.57699786e-01\n",
      " 6.59937173e-01 6.61642517e-01 6.61983177e-01 6.62466351e-01\n",
      " 6.62669667e-01 6.64443750e-01 6.65120804e-01 6.66721310e-01\n",
      " 6.69088208e-01 6.70355937e-01 6.70553615e-01 6.72451932e-01\n",
      " 6.73362554e-01 6.73886821e-01 6.75812822e-01 6.78611905e-01\n",
      " 6.78736348e-01 6.79102417e-01 6.79197339e-01 6.79336125e-01\n",
      " 6.80461812e-01 6.81206077e-01 6.83206962e-01 6.83625479e-01\n",
      " 6.83917977e-01 6.85823864e-01 6.87116084e-01 6.87469296e-01\n",
      " 6.88756643e-01 6.88987488e-01 6.89777720e-01 6.90493393e-01\n",
      " 6.90810226e-01 6.90951625e-01 6.91463766e-01 6.92833041e-01\n",
      " 6.93018109e-01 6.93813567e-01 6.94031717e-01 6.95730684e-01\n",
      " 6.98695428e-01 6.99739399e-01 7.02944891e-01 7.02981670e-01\n",
      " 7.03120843e-01 7.09591223e-01 7.09947206e-01 7.09978929e-01\n",
      " 7.10252739e-01 7.10721655e-01 7.11555701e-01 7.11794482e-01\n",
      " 7.12736593e-01 7.14313202e-01 7.14356558e-01 7.14833631e-01\n",
      " 7.14861724e-01 7.15237418e-01 7.15608776e-01 7.16934594e-01\n",
      " 7.18251756e-01 7.18371638e-01 7.19412038e-01 7.19783283e-01\n",
      " 7.20554680e-01 7.20876094e-01 7.20925928e-01 7.22560028e-01\n",
      " 7.23406662e-01 7.23766646e-01 7.25146592e-01 7.25936371e-01\n",
      " 7.26006870e-01 7.26406710e-01 7.26760945e-01 7.28476256e-01\n",
      " 7.29341395e-01 7.30783291e-01 7.31086858e-01 7.33494079e-01\n",
      " 7.33829825e-01 7.34091644e-01 7.34945585e-01 7.39114238e-01\n",
      " 7.39328394e-01 7.39424201e-01 7.39866426e-01 7.47089407e-01\n",
      " 7.47317741e-01 7.48131303e-01 7.48705467e-01 7.51031146e-01\n",
      " 7.51396129e-01 7.51603618e-01 7.51633045e-01 7.51710112e-01\n",
      " 7.55507917e-01 7.59246871e-01 7.59917756e-01 7.63797031e-01\n",
      " 7.64108376e-01 7.64132954e-01 7.67030180e-01 7.68258806e-01\n",
      " 7.68337121e-01 7.68577189e-01 7.69302597e-01 7.70568011e-01\n",
      " 7.71022935e-01 7.71622549e-01 7.72997109e-01 7.73580743e-01\n",
      " 7.75484342e-01 7.76348270e-01 7.76472644e-01 7.76776376e-01\n",
      " 7.78286851e-01 7.80079921e-01 7.80846563e-01 7.81377187e-01\n",
      " 7.81842243e-01 7.82046769e-01 7.82137420e-01 7.82908798e-01\n",
      " 7.85077479e-01 7.86722106e-01 7.87014186e-01 7.87120680e-01\n",
      " 7.87807197e-01 7.88254355e-01 7.89903923e-01 7.90357941e-01\n",
      " 7.91117211e-01 7.92909656e-01 7.94468368e-01 7.95277177e-01\n",
      " 7.99393905e-01 8.01000180e-01 8.03500002e-01 8.03792425e-01\n",
      " 8.03989943e-01 8.04443983e-01 8.05112792e-01 8.05887201e-01\n",
      " 8.06897491e-01 8.07077537e-01 8.12758651e-01 8.14084663e-01\n",
      " 8.15569404e-01 8.17272702e-01 8.17601927e-01 8.19931647e-01\n",
      " 8.22483246e-01 8.22985566e-01 8.23261401e-01 8.23749506e-01\n",
      " 8.23852513e-01 8.24389847e-01 8.25372274e-01 8.25788184e-01\n",
      " 8.25988717e-01 8.27222827e-01 8.27240524e-01 8.27507749e-01\n",
      " 8.27637868e-01 8.28070582e-01 8.29242676e-01 8.29465072e-01\n",
      " 8.29845845e-01 8.30426355e-01 8.31643993e-01 8.32354427e-01\n",
      " 8.33434010e-01 8.34470339e-01 8.34533118e-01 8.34858606e-01\n",
      " 8.35372502e-01 8.37132099e-01 8.38066503e-01 8.38480146e-01\n",
      " 8.39053841e-01 8.40431999e-01 8.40731974e-01 8.42631898e-01\n",
      " 8.43222330e-01 8.43430058e-01 8.43675261e-01 8.43891124e-01\n",
      " 8.44450546e-01 8.45247993e-01 8.48077120e-01 8.48284861e-01\n",
      " 8.48514028e-01 8.50004752e-01 8.50746146e-01 8.51196649e-01\n",
      " 8.51212806e-01 8.52179191e-01 8.53682474e-01 8.53845268e-01\n",
      " 8.54214118e-01 8.54870149e-01 8.55136931e-01 8.56750269e-01\n",
      " 8.56781645e-01 8.57002759e-01 8.57790940e-01 8.58602494e-01\n",
      " 8.60548938e-01 8.60575599e-01 8.61617779e-01 8.62847003e-01\n",
      " 8.63049801e-01 8.64020574e-01 8.66293873e-01 8.66724481e-01\n",
      " 8.67148060e-01 8.68216384e-01 8.71128448e-01 8.71421918e-01\n",
      " 8.71754517e-01 8.72519370e-01 8.72529341e-01 8.73702185e-01\n",
      " 8.73807981e-01 8.74340020e-01 8.75609223e-01 8.76897656e-01\n",
      " 8.77951976e-01 8.80047185e-01 8.80715362e-01 8.82664706e-01\n",
      " 8.82919018e-01 8.83518193e-01 8.85254772e-01 8.86479914e-01\n",
      " 8.88710848e-01 8.89120364e-01 8.89951209e-01 8.91618238e-01\n",
      " 8.91665586e-01 8.95038543e-01 8.95255280e-01 8.95572249e-01\n",
      " 8.99922184e-01 9.00037004e-01 9.00187274e-01 9.00929892e-01\n",
      " 9.01018277e-01 9.01046981e-01 9.01118524e-01 9.01252875e-01\n",
      " 9.01703210e-01 9.01989823e-01 9.05487561e-01 9.05619953e-01\n",
      " 9.06211740e-01 9.06760105e-01 9.07411726e-01 9.07545526e-01\n",
      " 9.08205333e-01 9.09016357e-01 9.10021491e-01 9.10802692e-01\n",
      " 9.11967221e-01 9.14235083e-01 9.15209440e-01 9.15402780e-01\n",
      " 9.15840936e-01 9.15987956e-01 9.16573240e-01 9.19256266e-01\n",
      " 9.19466038e-01 9.19600254e-01 9.20520074e-01 9.22288828e-01\n",
      " 9.22625756e-01 9.24103283e-01 9.24545528e-01 9.25044127e-01\n",
      " 9.26183876e-01 9.27270976e-01 9.29944478e-01 9.31556038e-01\n",
      " 9.32721446e-01 9.34223688e-01 9.34403915e-01 9.35680034e-01\n",
      " 9.36344341e-01 9.36382310e-01 9.40314874e-01 9.42307427e-01\n",
      " 9.42493678e-01 9.43540065e-01 9.45057594e-01 9.45060303e-01\n",
      " 9.45111065e-01 9.45973859e-01 9.48413456e-01 9.48876468e-01\n",
      " 9.54769518e-01 9.55507122e-01 9.56945468e-01 9.57578231e-01\n",
      " 9.58244795e-01 9.58330311e-01 9.61672559e-01 9.62771644e-01\n",
      " 9.64582062e-01 9.65800857e-01 9.67495130e-01 9.67637033e-01\n",
      " 9.67694185e-01 9.68315934e-01 9.68426148e-01 9.69961759e-01\n",
      " 9.72048528e-01 9.72473918e-01 9.74085145e-01 9.77470124e-01\n",
      " 9.77622209e-01 9.78767287e-01 9.78812033e-01 9.81250340e-01\n",
      " 9.83234285e-01 9.83235153e-01 9.84667813e-01 9.85037024e-01\n",
      " 9.85075291e-01 9.85409654e-01 9.86542612e-01 9.89952881e-01\n",
      " 9.90524989e-01 9.90762722e-01 9.91528179e-01 9.92105582e-01\n",
      " 9.96881813e-01 9.97673384e-01 9.98792231e-01 9.99464324e-01] [1 1 1 1 1 1 1 1 1 1 1 1 1 1 1 1 1 1 1 1 1 1 1 1 1 1 1 1 1 1 1 1 1 1 1 1 1\n",
      " 1 1 1 1 1 1 1 1 1 1 1 1 1 1 1 1 1 1 1 1 1 1 1 1 1 1 1 1 1 1 1 1 1 1 1 1 1\n",
      " 1 1 1 1 1 1 1 1 1 1 1 1 1 1 1 1 1 1 1 1 1 1 1 1 1 1 1 1 1 1 1 1 1 1 1 1 1\n",
      " 1 1 1 1 1 1 1 1 1 1 1 1 1 1 1 1 1 1 1 1 1 1 1 1 1 1 1 1 1 1 1 1 1 1 1 1 1\n",
      " 1 1 1 1 1 1 1 1 1 1 1 1 1 1 1 1 1 1 1 1 1 1 1 1 1 1 1 1 1 1 1 1 1 1 1 1 1\n",
      " 1 1 1 1 1 1 1 1 1 1 1 1 1 1 1 1 1 1 1 1 1 1 1 1 1 1 1 1 1 1 1 1 1 1 1 1 1\n",
      " 1 1 1 1 1 1 1 1 1 1 1 1 1 1 1 1 1 1 1 1 1 1 1 1 1 1 1 1 1 1 1 1 1 1 1 1 1\n",
      " 1 1 1 1 1 1 1 1 1 1 1 1 1 1 1 1 1 1 1 1 1 1 1 1 1 1 1 1 1 1 1 1 1 1 1 1 1\n",
      " 1 1 1 1 1 1 1 1 1 1 1 1 1 1 1 1 1 1 1 1 1 1 1 1 1 1 1 1 1 1 1 1 1 1 1 1 1\n",
      " 1 1 1 1 1 1 1 1 1 1 1 1 1 1 1 1 1 1 1 1 1 1 1 1 1 1 1 1 1 1 1 1 1 1 1 1 1\n",
      " 1 1 1 1 1 1 1 1 1 1 1 1 1 1 1 1 1 1 1 1 1 1 1 1 1 1 1 1 1 1 1 1 1 1 1 1 1\n",
      " 1 1 1 1 1 1 1 1 1 1 1 1 1 1 1 1 1 1 1 1 1 1 1 1 1 1 1 1 1 1 1 1 1 1 1 1 1\n",
      " 1 1 1 1 1 1 1 1 1 1 1 1 1 1 1 1 1 1 1 1 1 1 1 1 1 1 1 1 1 1 1 1 1 1 1 1 1\n",
      " 1 1 1 1 1 1 1 1 1 1 1 1 1 1 1 1 1 1 1 1 1 1 1 1 1 1 1 1 1 1 1 1 1 1 1 1 1\n",
      " 1 1 1 1 1 1 1 1 1 1 1 1 1 1 1 1 1 1 1 1 1 1 1 1 1 1 1 1 1 1 1 1 1 1 1 1 1\n",
      " 1 1 1 1 1 1 1 1 1 1 1 1 1 1 1 1 1 1 1 1 1 1 1 1 1 1 1 1 1 1 1 1 1 1 1 1 1\n",
      " 1 1 1 1 1 1 1 1 1 1 1 1 1 1 1 1 1 1 1 1 1 1 1 1 1 1 1 1 1 1 1 1 1 1 1 1 1\n",
      " 1 1 1 1 1 1 1 1 1 1 1 1 1 1 1 1 1 1 1 1 1 1 1 1 1 1 1 1 1 1 1 1 1 1 1 1 1\n",
      " 1 1 1 1 1 1 1 1 1 1 1 1 1 1 1 1 1 1 1 1 1 1 1 1 1 1 1 1 1 1 1 1 1 1 1 1 1\n",
      " 1 1 1 1 1 1 1 1 1 1 1 1 1 1 1 1 1 1 1 1 1 1 1 1 1 1 1 1 1 1 1 1 1 1 1 1 1\n",
      " 1 1 1 1 1 1 1 1 1 1 1 1 1 1 1 1 1 1 1 1 1 1 1 1 1 1 1 1 1 1 1 1 1 1 1 1 1\n",
      " 1 1 1 1 1 1 1 1 1 1 1 1 1 1 1 1 1 1 1 1 1 1 1 1 1 1 1 1 1 1 1 1 1 1 1 1 1\n",
      " 1 1 1 1 1 1 1 1 1 1 1 1 1 1 1 1 1 1 1 1 1 1 1 1 1 1 1 1 1 1 1 1 1 1 1 1 1\n",
      " 1 1 1 1 1 1 1 1 1 1 1 1 1 1 1 1 1 1 1 1 1 1 1 1 1 1 1 1 1 1 1 1 1 1 1 1 1\n",
      " 1 1 1 1 1 1 1 1 1 1 1 1 1 1 1 1 1 1 1 1 1 1 1 1 1 1 1 1 1 1 1 1 1 1 1 1 1\n",
      " 1 1 1 1 1 1 1 1 1 1 1 1 1 1 1 1 1 1 1 1 1 1 1 1 1 1 1 1 1 1 1 1 1 1 1 1 1\n",
      " 1 1 1 1 1 1 1 1 1 1 1 1 1 1 1 1 1 1 1 1 1 1 1 1 1 1 1 1 1 1 1 1 1 1 1 1 1\n",
      " 1]\n"
     ]
    },
    {
     "data": {
      "text/plain": [
       "<BarContainer object of 1000 artists>"
      ]
     },
     "execution_count": 68,
     "metadata": {},
     "output_type": "execute_result"
    }
   ],
   "source": [
    "# the unique random elements of rand_floats with count\n",
    "x , counts = np.unique(rand_floats,return_counts = True)\n",
    "print(x,counts)\n",
    "\n",
    "ax.bar(x, counts)"
   ]
  },
  {
   "cell_type": "code",
   "execution_count": 71,
   "metadata": {},
   "outputs": [
    {
     "data": {
      "text/plain": [
       "(array([ 98.,  89., 107., 105.,  97.,  93., 112.,  96., 107.,  96.]),\n",
       " array([3.31711454e-04, 1.00244973e-01, 2.00158234e-01, 3.00071495e-01,\n",
       "        3.99984756e-01, 4.99898018e-01, 5.99811279e-01, 6.99724540e-01,\n",
       "        7.99637801e-01, 8.99551062e-01, 9.99464324e-01]),\n",
       " <BarContainer object of 10 artists>)"
      ]
     },
     "execution_count": 71,
     "metadata": {},
     "output_type": "execute_result"
    },
    {
     "data": {
      "image/png": "[encoded data removed]",
      "text/plain": [
       "<Figure size 1200x300 with 1 Axes>"
      ]
     },
     "metadata": {},
     "output_type": "display_data"
    }
   ],
   "source": [
    "# create an empty plot\n",
    "fig , ax = plt.subplots(figsize = (12,3))\n",
    "\n",
    "#plot a histogram\n",
    "ax.hist(rand_floats)"
   ]
  },
  {
   "cell_type": "markdown",
   "metadata": {},
   "source": [
    "## Normal Looking Data"
   ]
  },
  {
   "cell_type": "code",
   "execution_count": 72,
   "metadata": {},
   "outputs": [
    {
     "data": {
      "text/plain": [
       "(array([   5.,   72.,  389., 1319., 2581., 2885., 1912.,  693.,  124.,\n",
       "          20.]),\n",
       " array([-3.98463455, -3.2196175 , -2.45460045, -1.6895834 , -0.92456634,\n",
       "        -0.15954929,  0.60546776,  1.37048481,  2.13550186,  2.90051891,\n",
       "         3.66553597]),\n",
       " <BarContainer object of 10 artists>)"
      ]
     },
     "execution_count": 72,
     "metadata": {},
     "output_type": "execute_result"
    },
    {
     "data": {
      "image/png": "[encoded data removed]",
      "text/plain": [
       "<Figure size 1200x300 with 1 Axes>"
      ]
     },
     "metadata": {},
     "output_type": "display_data"
    }
   ],
   "source": [
    "rand_normal = rng.standard_normal(10000)\n",
    "\n",
    "# create an empty plot\n",
    "fig , ax = plt.subplots(figsize = (12,3))\n",
    "\n",
    "#plot a histogram\n",
    "ax.hist(rand_normal)"
   ]
  }
 ],
 "metadata": {
  "kernelspec": {
   "display_name": "Python 3",
   "language": "python",
   "name": "python3"
  },
  "language_info": {
   "codemirror_mode": {
    "name": "ipython",
    "version": 3
   },
   "file_extension": ".py",
   "mimetype": "text/x-python",
   "name": "python",
   "nbconvert_exporter": "python",
   "pygments_lexer": "ipython3",
   "version": "3.11.3"
  }
 },
 "nbformat": 4,
 "nbformat_minor": 2
}
